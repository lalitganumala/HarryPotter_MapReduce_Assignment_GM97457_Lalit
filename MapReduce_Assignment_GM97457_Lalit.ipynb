{
  "nbformat": 4,
  "nbformat_minor": 0,
  "metadata": {
    "colab": {
      "provenance": []
    },
    "kernelspec": {
      "name": "python3",
      "display_name": "Python 3"
    },
    "language_info": {
      "name": "python"
    }
  },
  "cells": [
    {
      "cell_type": "code",
      "execution_count": 7,
      "metadata": {
        "colab": {
          "base_uri": "https://localhost:8080/"
        },
        "id": "U9eOwkzLrKbb",
        "outputId": "61159750-ce16-4d77-cb03-20827f48185e"
      },
      "outputs": [
        {
          "output_type": "stream",
          "name": "stdout",
          "text": [
            "Requirement already satisfied: PyPDF2 in /usr/local/lib/python3.12/dist-packages (3.0.1)\n",
            "Requirement already satisfied: pyspellchecker in /usr/local/lib/python3.12/dist-packages (0.8.3)\n",
            "--2025-09-25 17:33:57--  https://kvongcmehsanalibrary.wordpress.com/wp-content/uploads/2021/07/harrypotter.pdf\n",
            "Resolving kvongcmehsanalibrary.wordpress.com (kvongcmehsanalibrary.wordpress.com)... 192.0.78.12, 192.0.78.13\n",
            "Connecting to kvongcmehsanalibrary.wordpress.com (kvongcmehsanalibrary.wordpress.com)|192.0.78.12|:443... connected.\n",
            "HTTP request sent, awaiting response... 200 OK\n",
            "Length: 17338552 (17M) [application/pdf]\n",
            "Saving to: ‘harrypotter.pdf’\n",
            "\n",
            "harrypotter.pdf     100%[===================>]  16.54M  57.4MB/s    in 0.3s    \n",
            "\n",
            "2025-09-25 17:33:57 (57.4 MB/s) - ‘harrypotter.pdf’ saved [17338552/17338552]\n",
            "\n"
          ]
        }
      ],
      "source": [
        "# Install libraries\n",
        "!pip install PyPDF2 pyspellchecker\n",
        "\n",
        "# Download PDF from the link\n",
        "!wget -O harrypotter.pdf https://kvongcmehsanalibrary.wordpress.com/wp-content/uploads/2021/07/harrypotter.pdf\n",
        "\n",
        "\n"
      ]
    },
    {
      "cell_type": "code",
      "source": [
        "import PyPDF2\n",
        "\n",
        "# Download PDF\n",
        "pdf_path = \"harrypotter.pdf\"\n",
        "\n",
        "# Open PDF\n",
        "reader = PyPDF2.PdfReader(pdf_path)\n",
        "\n",
        "# Function to extract given range of pages to a text file\n",
        "def extract_pages(start, end, filename):\n",
        "    text = \"\"\n",
        "    for i in range(start-1, end):  # PDF pages are 0-indexed\n",
        "        if i < len(reader.pages):\n",
        "            text += reader.pages[i].extract_text() + \"\\n\"\n",
        "    with open(filename, \"w\", encoding=\"utf-8\") as f:\n",
        "        f.write(text)\n",
        "\n",
        "# File 1: Pages 12–21\n",
        "extract_pages(12, 21, \"file1.txt\")\n",
        "\n",
        "# File 2: Pages 103–112\n",
        "extract_pages(103, 112, \"file2.txt\")\n",
        "\n",
        "print(\"Files created: file1.txt and file2.txt\")\n"
      ],
      "metadata": {
        "colab": {
          "base_uri": "https://localhost:8080/"
        },
        "id": "wDMUQbm6rWoT",
        "outputId": "8ae0fb71-1c85-4a96-8268-72e14b658a17"
      },
      "execution_count": 11,
      "outputs": [
        {
          "output_type": "stream",
          "name": "stdout",
          "text": [
            "Files created: file1.txt and file2.txt\n"
          ]
        }
      ]
    },
    {
      "cell_type": "code",
      "source": [
        "from collections import defaultdict\n",
        "\n",
        "# Simple MapReduce word count\n",
        "def map_reduce_word_count(filename):\n",
        "    # Read file\n",
        "    with open(filename, \"r\", encoding=\"utf-8\") as f:\n",
        "        text = f.read().lower()\n",
        "\n",
        "    #Split words\n",
        "    words = text.split()\n",
        "\n",
        "    # Shuffle and Reduce\n",
        "    word_count = defaultdict(int)\n",
        "    for word in words:\n",
        "        word = ''.join(ch for ch in word if ch.isalpha())\n",
        "        if word:\n",
        "            word_count[word] += 1\n",
        "\n",
        "    return dict(word_count)\n",
        "\n",
        "# Word count for file1\n",
        "word_counts_file1 = map_reduce_word_count(\"file1.txt\")\n",
        "\n",
        "# Display top 20 words\n",
        "sorted_words = sorted(word_counts_file1.items(), key=lambda x: x[1], reverse=True)\n",
        "print(\"Top 20 words in file1.txt:\")\n",
        "for word, count in sorted_words[:20]:\n",
        "    print(word, \":\", count)\n"
      ],
      "metadata": {
        "colab": {
          "base_uri": "https://localhost:8080/"
        },
        "id": "8Lu-hPstreHL",
        "outputId": "631e542f-3703-42c3-dbef-b59ba23bb9f0"
      },
      "execution_count": 12,
      "outputs": [
        {
          "output_type": "stream",
          "name": "stdout",
          "text": [
            "Top 20 words in file1.txt:\n",
            "the : 153\n",
            "he : 112\n",
            "a : 84\n",
            "was : 77\n",
            "to : 75\n",
            "and : 71\n",
            "it : 61\n",
            "of : 54\n",
            "his : 50\n",
            "dursley : 45\n",
            "that : 42\n",
            "in : 42\n",
            "on : 40\n",
            "had : 37\n",
            "as : 33\n",
            "mr : 29\n",
            "have : 29\n",
            "at : 28\n",
            "all : 27\n",
            "but : 26\n"
          ]
        }
      ]
    },
    {
      "cell_type": "code",
      "source": [
        "from spellchecker import SpellChecker\n",
        "\n",
        "def map_reduce_non_english(filename):\n",
        "    spell = SpellChecker()\n",
        "    non_english_counts = defaultdict(int)\n",
        "\n",
        "    # Read file\n",
        "    with open(filename, \"r\", encoding=\"utf-8\") as f:\n",
        "        text = f.read().lower()\n",
        "\n",
        "    # Mapper: Split into words\n",
        "    words = text.split()\n",
        "\n",
        "    for word in words:\n",
        "        word = ''.join(ch for ch in word if ch.isalpha())\n",
        "        if word and word not in spell:\n",
        "            non_english_counts[word] += 1\n",
        "\n",
        "    return dict(non_english_counts)\n",
        "\n",
        "# Non-English words in file2\n",
        "non_english_file2 = map_reduce_non_english(\"file2.txt\")\n",
        "\n",
        "# Display top 20 unusual words\n",
        "sorted_non_eng = sorted(non_english_file2.items(), key=lambda x: x[1], reverse=True)\n",
        "print(\"Top 20 Non-English words in file2.txt:\")\n",
        "for word, count in sorted_non_eng[:20]:\n",
        "    print(word, \":\", count)\n"
      ],
      "metadata": {
        "colab": {
          "base_uri": "https://localhost:8080/"
        },
        "id": "Zsw5g9S8rmuh",
        "outputId": "781f047e-09f2-405b-a3d4-f56433b5c5c0"
      },
      "execution_count": 13,
      "outputs": [
        {
          "output_type": "stream",
          "name": "stdout",
          "text": [
            "Top 20 Non-English words in file2.txt:\n",
            "mcgonagall : 11\n",
            "hagrid : 10\n",
            "scabbers : 6\n",
            "hermione : 6\n",
            "hufflepuff : 6\n",
            "didnt : 5\n",
            "goyle : 5\n",
            "dont : 5\n",
            "hed : 4\n",
            "ravenclaw : 4\n",
            "youre : 3\n",
            "youll : 3\n",
            "malfoy : 3\n",
            "youve : 3\n",
            "harrys : 3\n",
            "gryffindor : 3\n",
            "im : 3\n",
            "weve : 2\n",
            "theyd : 2\n",
            "ive : 2\n"
          ]
        }
      ]
    }
  ]
}